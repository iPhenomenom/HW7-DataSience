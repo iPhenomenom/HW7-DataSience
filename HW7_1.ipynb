{
  "nbformat": 4,
  "nbformat_minor": 0,
  "metadata": {
    "colab": {
      "provenance": []
    },
    "kernelspec": {
      "name": "python3",
      "display_name": "Python 3"
    },
    "language_info": {
      "name": "python"
    }
  },
  "cells": [
    {
      "cell_type": "code",
      "execution_count": 1,
      "metadata": {
        "id": "2IBI48ica5k-"
      },
      "outputs": [],
      "source": [
        "# Завантаження необхідних бібліотек і функцій\n",
        "import numpy as np\n",
        "from scipy.io import loadmat\n",
        "from scipy.optimize import minimize"
      ]
    },
    {
      "cell_type": "code",
      "source": [
        "# Функція завантаження списку фільмів\n",
        "def loadMovieList():\n",
        "    with open('movie_ids.txt',  encoding='ISO-8859-1') as fid:\n",
        "        movies = fid.readlines()\n",
        "    movieNames = []\n",
        "    for movie in movies:\n",
        "        parts = movie.split()\n",
        "        movieNames.append(' '.join(parts[1:]).strip())\n",
        "    return movieNames"
      ],
      "metadata": {
        "id": "dZYaiAKybGcV"
      },
      "execution_count": 2,
      "outputs": []
    },
    {
      "cell_type": "code",
      "source": [
        "# Завантаження даних про рейтинги фільмів і матрицю індикаторів R та Y\n",
        "data = loadmat('movies.mat')\n",
        "Y = data['Y']  # Матриця рейтингів (num_movies x num_users)\n",
        "R = data['R']  # Бінарна матриця індикаторів (num_movies x num_users)"
      ],
      "metadata": {
        "id": "2mRdWrY3bPtw"
      },
      "execution_count": 3,
      "outputs": []
    },
    {
      "cell_type": "code",
      "source": [
        "# Ініціалізація параметрів\n",
        "num_users = Y.shape[1]\n",
        "num_movies = Y.shape[0]\n",
        "num_features = 10  # Кількість ознак (зазвичай вибирається експериментально)\n",
        "\n",
        "X = np.random.randn(num_movies, num_features)\n",
        "Theta = np.random.randn(num_users, num_features)"
      ],
      "metadata": {
        "id": "Rb5bMhLtbRE8"
      },
      "execution_count": 5,
      "outputs": []
    },
    {
      "cell_type": "code",
      "source": [
        "# Функція втрат\n",
        "def costFunction(params, Y, R, num_users, num_movies, num_features, lambda_):\n",
        "    X = params[:num_movies * num_features].reshape(num_movies, num_features)\n",
        "    Theta = params[num_movies * num_features:].reshape(num_users, num_features)\n",
        "\n",
        "    predictions = X.dot(Theta.T)\n",
        "\n",
        "    error = (predictions - Y)\n",
        "    error = error * R\n",
        "    squared_error = error ** 2\n",
        "    J = 0.5 * np.sum(squared_error)\n",
        "\n",
        "    reg_term = (lambda_ / 2) * (np.sum(Theta ** 2) + np.sum(X ** 2))\n",
        "    J += reg_term\n",
        "\n",
        "    return J"
      ],
      "metadata": {
        "id": "euoywbW8bWTe"
      },
      "execution_count": 6,
      "outputs": []
    },
    {
      "cell_type": "code",
      "source": [
        "# Обчислення градієнтів\n",
        "def gradient(params, Y, R, num_users, num_movies, num_features, lambda_):\n",
        "    X = params[:num_movies * num_features].reshape(num_movies, num_features)\n",
        "    Theta = params[num_movies * num_features:].reshape(num_users, num_features)\n",
        "\n",
        "    error = (X.dot(Theta.T) - Y)\n",
        "    error = error * R\n",
        "\n",
        "    X_grad = error.dot(Theta) + lambda_ * X\n",
        "    Theta_grad = error.T.dot(X) + lambda_ * Theta\n",
        "\n",
        "    grad = np.concatenate([X_grad.ravel(), Theta_grad.ravel()])\n",
        "\n",
        "    return grad"
      ],
      "metadata": {
        "id": "Rhfteuanbbid"
      },
      "execution_count": 7,
      "outputs": []
    },
    {
      "cell_type": "code",
      "source": [
        "# Параметри оптимізації\n",
        "lambda_ = 10"
      ],
      "metadata": {
        "id": "ri1GGL7LbeYq"
      },
      "execution_count": 8,
      "outputs": []
    },
    {
      "cell_type": "code",
      "source": [
        "# Об'єднати матриці X та Theta в один вектор параметрів\n",
        "initial_params = np.concatenate([X.ravel(), Theta.ravel()])"
      ],
      "metadata": {
        "id": "yun6hTz8bhgK"
      },
      "execution_count": 9,
      "outputs": []
    },
    {
      "cell_type": "code",
      "source": [
        "# Мінімізація функції втрат\n",
        "result = minimize(costFunction, initial_params, args=(Y, R, num_users, num_movies, num_features, lambda_),\n",
        "                  method='CG', jac=gradient, options={'maxiter': 100})"
      ],
      "metadata": {
        "id": "Tmco3oD-bjjf"
      },
      "execution_count": 10,
      "outputs": []
    },
    {
      "cell_type": "code",
      "source": [
        "# Отримання оптимальних параметрів X та Theta\n",
        "optimal_params = result.x\n",
        "X = optimal_params[:num_movies * num_features].reshape(num_movies, num_features)\n",
        "Theta = optimal_params[num_movies * num_features:].reshape(num_users, num_features)\n",
        "\n"
      ],
      "metadata": {
        "id": "WUGnVvdXbmrm"
      },
      "execution_count": 11,
      "outputs": []
    },
    {
      "cell_type": "markdown",
      "source": [
        "Тепер X і Theta містять оптимальні значення, які можна використовувати для прогнозування рейтингів"
      ],
      "metadata": {
        "id": "0JT64TjGcNtC"
      }
    },
    {
      "cell_type": "code",
      "source": [
        "user_idx = 2  # Замініть на індекс конкретного користувача\n",
        "\n",
        "# Прогнози для користувача user_idx\n",
        "user_predictions = X.dot(Theta[user_idx, :].T)\n",
        "\n",
        "# Вибираємо фільми, які користувач ще не оцінив (де R[i, user_idx] == 0)\n",
        "user_unrated_movies_predictions = user_predictions * (1 - R[:, user_idx])\n",
        "\n",
        "# Отримуємо індекси фільмів, які мають найвищі прогнози (наприклад, топ-10 рекомендацій)\n",
        "top_movie_indices = np.argsort(user_unrated_movies_predictions)[::-1][:10]\n",
        "\n",
        "# Отримуємо назви рекомендованих фільмів\n",
        "movie_names = loadMovieList()\n",
        "\n",
        "print(\"Рекомендовані фільми для користувача {}:\".format(user_idx))\n",
        "for i, movie_idx in enumerate(top_movie_indices):\n",
        "    print(\"{}. {}\".format(i + 1, movie_names[movie_idx]))\n"
      ],
      "metadata": {
        "colab": {
          "base_uri": "https://localhost:8080/"
        },
        "id": "n_hitLpkcCeq",
        "outputId": "5a3eeaee-7d2e-42d6-f705-57e9d723f171"
      },
      "execution_count": 14,
      "outputs": [
        {
          "output_type": "stream",
          "name": "stdout",
          "text": [
            "Рекомендовані фільми для користувача 2:\n",
            "1. Godfather, The (1972)\n",
            "2. Star Wars (1977)\n",
            "3. Apt Pupil (1998)\n",
            "4. Clockwork Orange, A (1971)\n",
            "5. Trainspotting (1996)\n",
            "6. Big Lebowski, The (1998)\n",
            "7. Boot, Das (1981)\n",
            "8. Godfather: Part II, The (1974)\n",
            "9. Bridge on the River Kwai, The (1957)\n",
            "10. As Good As It Gets (1997)\n"
          ]
        }
      ]
    }
  ]
}